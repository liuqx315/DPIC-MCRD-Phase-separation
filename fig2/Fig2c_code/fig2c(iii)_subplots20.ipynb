{
 "cells": [
  {
   "cell_type": "code",
   "execution_count": 1,
   "id": "4cdc0848",
   "metadata": {
    "tags": []
   },
   "outputs": [],
   "source": [
    "%reset -f \n",
    "from __future__ import absolute_import, print_function\n",
    "import time\n",
    "import numpy as np\n",
    "import pyopencl as cl\n",
    "import matplotlib.pyplot as plt\n",
    "import matplotlib.animation as animation\n",
    "from scipy import signal\n",
    "from matplotlib import rcParams\n",
    "from scipy import io\n",
    "import os\n",
    "from scipy import signal\n",
    "\n",
    "import locale\n",
    "os.environ[\"PYTHONIOENCODING\"] = \"utf-8\"\n"
   ]
  },
  {
   "cell_type": "code",
   "execution_count": null,
   "id": "fb55a74f",
   "metadata": {},
   "outputs": [],
   "source": []
  },
  {
   "cell_type": "code",
   "execution_count": 2,
   "id": "9ce7ef05",
   "metadata": {
    "tags": []
   },
   "outputs": [
    {
     "data": {
      "text/html": [
       "<style>.container { width:90% !important; }</style>"
      ],
      "text/plain": [
       "<IPython.core.display.HTML object>"
      ]
     },
     "metadata": {},
     "output_type": "display_data"
    }
   ],
   "source": [
    "# Widening the screen\n",
    "#from IPython.core.display import display, HTML\n",
    "from IPython.display import display, HTML  \n",
    "display(HTML(\"<style>.container { width:90% !important; }</style>\"))\n",
    "\n",
    "rcParams['figure.dpi'] = 100\n",
    "rcParams['font.size'] = 16\n",
    "rcParams['font.family'] = 'StixGeneral'\n",
    "rcParams[\"mathtext.fontset\"] = 'stix'\n",
    "rcParams['animation.embed_limit'] = 2**128\n",
    "plt.rc('font', size=16)          # controls default text sizes\n",
    "plt.rc('axes', titlesize=16)     # fontsize of the axes title\n",
    "plt.rc('axes', labelsize=16)     # fontsize of the x and y labels\n",
    "plt.rc('xtick', labelsize=16)    # fontsize of the tick labels\n",
    "plt.rc('ytick', labelsize=16)    # fontsize of the tick labels\n",
    "plt.rc('legend', fontsize=16)    # legend fontsize\n",
    "plt.rc('figure', titlesize=16)   # fontsize of the figure title\n"
   ]
  },
  {
   "cell_type": "markdown",
   "id": "15fe4c4a",
   "metadata": {},
   "source": [
    "## Model description\n",
    "\n",
    "equations:\n",
    "\n",
    "$\\displaystyle \\frac{\\partial u}{\\partial t}=  -k_d u +  f(u,v)\\cdot v -\\rho g(u,v) \\cdot u +D_u \\Delta u$\n",
    "\n",
    "$\\displaystyle \\frac{\\partial v}{\\partial t}=+k_d u- f(u,v)\\cdot v -\\rho g(u,v) \\cdot u +D_v \\Delta v $\n",
    "\n",
    "$u$: DNA-bound proteins concentration\n",
    "\n",
    "$v$: free protein concentration\n",
    "\n",
    "$\\rho$: DNA length or stability of DNA-bound protein\n",
    "\n",
    "\n",
    "$D_u<<D_v$\n",
    "\n",
    "\n",
    "Here,we take $\\displaystyle f(u,v)= k_1 u +\\frac{\\tilde{b}}{k_3}=k_1u+b$ , $\\displaystyle g(u,v)=\\frac{ k_2  \\cdot \\beta}{k_2+u+v}$"
   ]
  },
  {
   "cell_type": "markdown",
   "id": "e89a3876",
   "metadata": {},
   "source": [
    "## Parameters in the model\n"
   ]
  },
  {
   "cell_type": "code",
   "execution_count": 3,
   "id": "02ea1b70",
   "metadata": {},
   "outputs": [],
   "source": [
    "kd=0.36      # Dissociation rate constant\n",
    "k3=6.7       # intensity conversion factor\n",
    "k1=1.35      # recruitment rate coefficient\n",
    "tildeb=60    # self-triggering rate\n",
    "b=tildeb/k3\n",
    "rho=4.0      #5.0 # stability: default set as estimated half-saturation concentration of DNA\n",
    "k2=2.0       # half-saturation constant : threshold concentration\n",
    "beta=17.8*1.1 # maximal reduction of intensity per hour (estimated)\n",
    "Du=0.17*0.05  # diffusion for DNA-bound protein\n",
    "Dv=0.17       # diffusion for free protein\n",
    "cv=0.016*6.7  #constant speed up calculation"
   ]
  },
  {
   "cell_type": "code",
   "execution_count": 4,
   "id": "05a3bcb6",
   "metadata": {
    "tags": []
   },
   "outputs": [],
   "source": [
    "length    = 512    # 2.5 Length of the physical landscape\n",
    "n         = 1024   # Size of the 2D grid\n",
    "#n         =256\n",
    "#n=128\n",
    "endtime   =1000   #60*24.0*3    # end time\n",
    "#endtime=1e5\n",
    "dT        =0.001 #0.01       # 0.02     #calculate time step\n",
    "nplot     = 100\n",
    "nsteps    = np.ceil(endtime/nplot/dT).astype(int)    # number of time steps"
   ]
  },
  {
   "cell_type": "markdown",
   "id": "c69c6c10",
   "metadata": {},
   "source": [
    "## simulation settings"
   ]
  },
  {
   "cell_type": "code",
   "execution_count": 5,
   "id": "1ea9e603",
   "metadata": {
    "tags": []
   },
   "outputs": [
    {
     "name": "stdout",
     "output_type": "stream",
     "text": [
      " Current grid dimensions: 1024 x 1024 cells\n",
      "\n"
     ]
    }
   ],
   "source": [
    "dX =0.2  #length/n      # Spatial step size\n",
    "dY = 0.2 #length/n      # Spatial step size\n",
    "Grid_Width  = n\n",
    "Grid_Height = n\n",
    "# %% Reporting in the simulation on the console\n",
    "print(\" Current grid dimensions: %d x %d cells\\n\" % (Grid_Width, Grid_Height));"
   ]
  },
  {
   "cell_type": "code",
   "execution_count": 6,
   "id": "439ac5ac",
   "metadata": {
    "tags": []
   },
   "outputs": [
    {
     "name": "stdout",
     "output_type": "stream",
     "text": [
      "1\n",
      " Compute Device: Apple M2 Ultra\n",
      "\n"
     ]
    }
   ],
   "source": [
    "platforms = cl.get_platforms()\n",
    "Devices = platforms[0].get_devices()\n",
    "print(len(Devices))\n",
    "# Setting up the OpenCL context\n",
    "#DeviceNr = 2   # 0 = GTX 960M\n",
    "DeviceNr = 0   # 0= Quadro K5200\n",
    "platform = cl.get_platforms()\n",
    "Devices  = platform[0].get_devices()  # 0 = GPU\n",
    "context  = cl.Context([Devices[DeviceNr]])\n",
    "queue    = cl.CommandQueue(context)\n",
    "mf       = cl.mem_flags # Memory flags are set\n",
    "print(\" Compute Device: %s\\n\" % Devices[DeviceNr].name)"
   ]
  },
  {
   "cell_type": "markdown",
   "id": "60fa6dd4",
   "metadata": {},
   "source": [
    "## simulation allocated on the GPU\n"
   ]
  },
  {
   "cell_type": "code",
   "execution_count": 7,
   "id": "e27d6438",
   "metadata": {},
   "outputs": [],
   "source": [
    "u0= 0.5 # initial DNA-bound protein concentration\n",
    "u= u0+  (np.random.rand(n*n)-0.5)*0.2   # u ~(0,0.5)\n",
    "v0=20.0 # initial free-protein concentration\n",
    "v=v0+ (np.random.rand(n*n)-0.5)*0.5 # v~(27.5,28.5)\n",
    "\n",
    "## record initial data\n",
    "u_origin=u\n",
    "v_origin=v\n",
    "\n",
    "## preparation for opencl operations\n",
    "u_host   = u.astype(np.float32)\n",
    "u_g      = cl.Buffer(context, mf.READ_WRITE | mf.COPY_HOST_PTR, hostbuf=u_host)\n",
    "v_host   = v.astype(np.float32)\n",
    "v_g      = cl.Buffer(context, mf.READ_WRITE | mf.COPY_HOST_PTR, hostbuf=v_host)\n"
   ]
  },
  {
   "cell_type": "code",
   "execution_count": 8,
   "id": "6ca68f73",
   "metadata": {
    "tags": []
   },
   "outputs": [],
   "source": [
    "with open('SpatialFunctions_iPy.cl', 'r',encoding='utf-8') as myfile:\n",
    "   SpatialFunctions = myfile.read()"
   ]
  },
  {
   "cell_type": "code",
   "execution_count": 9,
   "id": "8c2d3dab",
   "metadata": {
    "tags": []
   },
   "outputs": [],
   "source": [
    "# List of parameters for the OpenCL kernel. Seperate with comma without spaces\n",
    "# Setting up the parameters for the Kernel\n",
    "PassVars=\"kd,k3,k1,b,k2,rho,cv,beta,Du,Dv,dX,dY,dT,Grid_Width,Grid_Height\"\n",
    "PassVals=eval(PassVars)\n",
    "PassVars=PassVars.split(',')\n",
    "Params=\"\"\n",
    "\n",
    "for ii in range(len(PassVals)):\n",
    "    Params = Params+\"#define \" + PassVars[ii] + \" \" + str(PassVals[ii]) + \" \\n\""
   ]
  },
  {
   "cell_type": "code",
   "execution_count": 10,
   "id": "b3a3a26b",
   "metadata": {
    "tags": []
   },
   "outputs": [],
   "source": [
    "ComputeCode = \"\"\"\n",
    "\n",
    "///////////////////////////////////////////////////////////////////////////////\n",
    "// Simulation kernel\n",
    "///////////////////////////////////////////////////////////////////////////////   \n",
    "\n",
    "__kernel void SimulationKernel (__global float* u, __global float* v)\n",
    "{\n",
    "    size_t current  = get_global_id(0);\n",
    "    size_t row      = floor((float)current/(float)Grid_Width);\n",
    "    size_t column   = current%Grid_Width;\n",
    "\n",
    "        if (row > 0 && row < Grid_Width-1 && column > 0 && column < Grid_Height-1)\n",
    "            {\n",
    "              \n",
    "                float dudt =  cv*(-kd*u[current] + (k1*u[current]+b)*v[current] - rho*k2*beta*u[current]/(k2+u[current]+v[current])) + Du*d2_dxy2(u); \n",
    "                float dvdt =  -cv*(-kd*u[current] + (k1*u[current]+b)*v[current] - rho*k2*beta*u[current]/(k2+u[current]+v[current])) + Dv*d2_dxy2(v); \n",
    "              \n",
    "             u[current] = u[current]+dudt*dT;\n",
    "             v[current] = v[current] +dvdt*dT; \n",
    "            } \n",
    "        // HANDLE Boundaries\n",
    "        else \n",
    "            {\n",
    "              PeriodicBoundaries(u);\n",
    "              PeriodicBoundaries(v);\n",
    "             //NeumannBoundaries(u);\n",
    "             //NeumannBoundaries(v);\n",
    "             \n",
    "            }\n",
    "} // End SimulationKernel\n",
    "\"\"\""
   ]
  },
  {
   "cell_type": "code",
   "execution_count": 11,
   "id": "d9d88a85",
   "metadata": {
    "tags": []
   },
   "outputs": [
    {
     "name": "stdout",
     "output_type": "stream",
     "text": [
      "Progress :\n"
     ]
    },
    {
     "data": {
      "application/vnd.jupyter.widget-view+json": {
       "model_id": "d4b46e92ea2d4b4c978e9d1979fd4fa0",
       "version_major": 2,
       "version_minor": 0
      },
      "text/plain": [
       "FloatProgress(value=0.0)"
      ]
     },
     "metadata": {},
     "output_type": "display_data"
    },
    {
     "name": "stdout",
     "output_type": "stream",
     "text": [
      " Simulation took      : 165.1 (s)\n"
     ]
    }
   ],
   "source": [
    "program = cl.Program(context, Params + SpatialFunctions + ComputeCode).build()\n",
    "\n",
    "from ipywidgets import FloatProgress\n",
    "from IPython.display import display\n",
    "\n",
    "# Setting up a progress bar for the simulation\n",
    "print(\"Progress :\");\n",
    "PB = FloatProgress(min=0, max=nplot); display(PB) \n",
    "Us=np.zeros((Grid_Width, Grid_Height, nplot))\n",
    "Vs=np.zeros((Grid_Width, Grid_Height, nplot))\n",
    "\n",
    "# Set up simulation parameters\n",
    "global_size = u_host.shape\n",
    "\n",
    "# Start the timer:\n",
    "start_time = time.time()\n",
    "\n",
    "# Starting the loop\n",
    "for ii in range(1,nplot):\n",
    "    # The simulation\n",
    "    for jj in range(1,nsteps):            \n",
    "#         cl.enqueue_copy(queue, A_host, A_g)\n",
    "#         phic = signal.convolve2d(A_host.reshape(n,n), C, mode='same', boundary='wrap')                     \n",
    "#         phic_host = phic.reshape(n*n,order='C').astype(np.float32)\n",
    "#         phic_g    = cl.Buffer(context, mf.READ_WRITE | mf.COPY_HOST_PTR, hostbuf=phic_host)\n",
    "#         program.SimulationKernel(queue, global_size, None, A_g, B_g, phic_g)\n",
    "        program.SimulationKernel(queue, global_size, None, u_g, v_g)\n",
    "\n",
    "    # Get the data from the GPU\n",
    "    cl.enqueue_copy(queue, u_host, u_g)\n",
    "    cl.enqueue_copy(queue, v_host, v_g)\n",
    "    \n",
    "    # We store the state of the system for <NumPlot> different times.\n",
    "    Us[:,:,ii] = u_host.reshape(Grid_Width, Grid_Height)\n",
    "    Vs[:,:,ii] = v_host.reshape(Grid_Width, Grid_Height)\n",
    "    \n",
    "    PB.value += 1 # signal to increment the progress bar\n",
    "\n",
    "# Determining the time that we used for the simulation\n",
    "elapsed_time = time.time() - start_time    \n",
    "print(\" Simulation took      : %1.1f (s)\" % (elapsed_time))"
   ]
  },
  {
   "cell_type": "code",
   "execution_count": null,
   "id": "16ed5dae",
   "metadata": {
    "tags": []
   },
   "outputs": [],
   "source": [
    "from scipy import io\n",
    "import os\n",
    "if not os.path.exists(\"Data\"):\n",
    "    os.makedirs(\"Data\")\n",
    "io.savemat('Data/bound_pro_'+str(v0)+'.mat', {'u': Us})\n",
    "io.savemat('Data/free_pro_'+str(v0)+'.mat', {'v': Vs})\n",
    "# load data: mathfn.mat from Matlab\n",
    "# data = io.loadmat(matfn) "
   ]
  },
  {
   "cell_type": "code",
   "execution_count": null,
   "id": "6385e88a",
   "metadata": {
    "tags": []
   },
   "outputs": [],
   "source": [
    "### The Simulation loop\n",
    "from matplotlib import ticker\n",
    "# plot_color_gradients('Sequential',\n",
    "#                      ['Greys', 'Purples', 'Blues', 'Greens', 'Oranges', 'Reds',\n",
    "#                       'YlOrBr', 'YlOrRd', 'OrRd', 'PuRd', 'RdPu', 'BuPu',\n",
    "#                       'GnBu', 'PuBu', 'YlGnBu', 'PuBuGn', 'BuGn', 'YlGn'])\n",
    "# plot_color_gradients('Sequential (2)',\n",
    "#                      ['binary', 'gist_yarg', 'gist_gray', 'gray', 'bone',\n",
    "#                       'pink', 'spring', 'summer', 'autumn', 'winter', 'cool',\n",
    "#                       'Wistia', 'hot', 'afmhot', 'gist_heat', 'copper'])\n",
    "nbin=4\n",
    "# viridis, Reds, Greens, YlGn\n",
    "#orig_map=plt.cm.get_cmap('copper') # viridis  YlGn, summer\n",
    "orig_map=plt.colormaps.get_cmap('GnBu')\n",
    "reversed_map = orig_map.reversed()\n",
    "\n",
    "fig, ax = plt.subplots(1, 2, figsize=(16, 8))\n",
    "im0 = ax[0].imshow((u_host-0.0).reshape(n,n),cmap=reversed_map,extent=[0,length,0,length], clim=(0,20));#, clim=(0,0.1));\n",
    "ax[0].set_title('concentration of $u$ (DNA-bound protein)');\n",
    "\n",
    "cbar=plt.colorbar(im0, ax=ax[0],fraction=0.046,pad=0.04);\n",
    "# ax[0].set_yticks(np.linspace(0,length,5))\n",
    "tick_locator = ticker.MaxNLocator(nbins=4)\n",
    "cbar.locator = tick_locator\n",
    "cbar.update_ticks()\n",
    "im1 = ax[1].imshow(v_host.reshape(n,n),cmap=reversed_map,extent=[0,length,0,length],clim=(0,20));#, clim=(0,0.5));\n",
    "ax[1].set_title('concentration of $v$ (free protein)');\n",
    "cbar=plt.colorbar(im1, ax=ax[1],fraction=0.046,pad=0.04);\n",
    "tick_locator = ticker.MaxNLocator(nbins=4)\n",
    "cbar.locator = tick_locator\n",
    "cbar.update_ticks()\n",
    "# fig.tight_layout()\n",
    "\n",
    "text=fig.suptitle(\"Time: %1.0f of %1.0f\" % (endtime, endtime), x=0.5, y=0.1, fontsize=16);"
   ]
  },
  {
   "cell_type": "raw",
   "id": "3bf1b637",
   "metadata": {
    "tags": []
   },
   "source": [
    "#fig.savefig('1205.jpg', bbox_inches='tight', dpi=600)\n",
    "fig.savefig('delta0.002v305000_b360.pdf', bbox_inches='tight', dpi=600)\n",
    "print(\"completed!\")"
   ]
  },
  {
   "cell_type": "code",
   "execution_count": null,
   "id": "b80195fe",
   "metadata": {
    "tags": []
   },
   "outputs": [],
   "source": [
    "nbin=4\n",
    "# viridis, Reds, Greens, YlGn\n",
    "# plot_color_gradients('Sequential',\n",
    "#                      ['Greys', 'Purples', 'Blues', 'Greens', 'Oranges', 'Reds',\n",
    "#                       'YlOrBr', 'YlOrRd', 'OrRd', 'PuRd', 'RdPu', 'BuPu',\n",
    "#                       'GnBu', 'PuBu', 'YlGnBu', 'PuBuGn', 'BuGn', 'YlGn'])\n",
    "# plot_color_gradients('Sequential (2)',\n",
    "#                      ['binary', 'gist_yarg', 'gist_gray', 'gray', 'bone',\n",
    "#                       'pink', 'spring', 'summer', 'autumn', 'winter', 'cool',\n",
    "#                       'Wistia', 'hot', 'afmhot', 'gist_heat', 'copper'])\n",
    "\n",
    "#orig_map=plt.cm.get_cmap('viridis') # viridis  YlGn, summer\n",
    "orig_map=plt.colormaps['GnBu']\n",
    "reversed_map = orig_map.reversed()\n",
    "\n",
    "from matplotlib import ticker\n",
    "fig, ax2 = plt.subplots(1, 1, figsize=(10, 5))\n",
    "im0 = ax2.imshow((u_host).reshape(n,n),cmap=reversed_map,extent=[0,length,0,length],clim=(0,20));#, clim=(0,0.5));\n",
    "#im1 = ax[1].imshow(B_host.reshape(n,n),cmap=reversed_map,extent=[0,length,0,length],clim=(0,30));#, clim=(0,0.5));\n",
    "ax2.set_title('concentration of $u$ (DNA-bound protein)');\n",
    "cbar=plt.colorbar(im0, ax=ax2,fraction=0.046,pad=0.04);\n",
    "# ax[1].set_yticks(np.linspace(0,length,5))\n",
    "tick_locator = ticker.MaxNLocator(nbins=4)\n",
    "cbar.locator = tick_locator\n",
    "cbar.update_ticks()\n",
    "# fig.tight_layout()\n",
    "plt.xticks([])\n",
    "plt.yticks([])\n",
    "#text=fig.suptitle(\"Time: %1.0f of %1.0f\" % (endtime, endtime), x=0.5, y=0.1, fontsize=16);"
   ]
  },
  {
   "cell_type": "raw",
   "id": "17e68531",
   "metadata": {
    "tags": []
   },
   "source": [
    "fig.savefig('individual.pdf', bbox_inches='tight', dpi=600)"
   ]
  }
 ],
 "metadata": {
  "kernelspec": {
   "display_name": "Python 3 (ipykernel)",
   "language": "python",
   "name": "python3"
  },
  "language_info": {
   "codemirror_mode": {
    "name": "ipython",
    "version": 3
   },
   "file_extension": ".py",
   "mimetype": "text/x-python",
   "name": "python",
   "nbconvert_exporter": "python",
   "pygments_lexer": "ipython3",
   "version": "3.11.6"
  }
 },
 "nbformat": 4,
 "nbformat_minor": 5
}
