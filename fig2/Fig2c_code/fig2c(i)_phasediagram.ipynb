{
 "cells": [
  {
   "cell_type": "code",
   "execution_count": 1,
   "id": "a70b9908",
   "metadata": {
    "tags": []
   },
   "outputs": [],
   "source": [
    "from __future__ import absolute_import, print_function\n",
    "import time\n",
    "import numpy as np\n",
    "import pyopencl as cl\n",
    "import matplotlib.pyplot as plt\n",
    "import matplotlib.animation as animation\n",
    "from scipy import signal\n",
    "from matplotlib import rcParams\n",
    "from scipy import io\n",
    "import os\n",
    "\n",
    "import locale\n",
    "os.environ[\"PYTHONIOENCODING\"] = \"utf-8\"\n",
    "# scriptLocale=locale.setlocale(category=locale.LC_ALL, locale=\"en_GB.UTF-8\")"
   ]
  },
  {
   "cell_type": "code",
   "execution_count": 2,
   "id": "c0d0fa6d",
   "metadata": {
    "tags": []
   },
   "outputs": [
    {
     "data": {
      "text/html": [
       "<style>.container { width:90% !important; }</style>"
      ],
      "text/plain": [
       "<IPython.core.display.HTML object>"
      ]
     },
     "metadata": {},
     "output_type": "display_data"
    }
   ],
   "source": [
    "# Widening the screen\n",
    "from IPython.display import display, HTML\n",
    "display(HTML(\"<style>.container { width:90% !important; }</style>\"))\n",
    "\n",
    "rcParams['figure.dpi'] = 1200\n",
    "rcParams['font.size'] = 16\n",
    "rcParams['font.family'] = 'StixGeneral'\n",
    "rcParams[\"mathtext.fontset\"] = 'stix'\n",
    "plt.rc('font', size=16)          # controls default text sizes\n",
    "plt.rc('axes', titlesize=16)     # fontsize of the axes title\n",
    "plt.rc('axes', labelsize=16)     # fontsize of the x and y labels\n",
    "plt.rc('xtick', labelsize=16)    # fontsize of the tick labels\n",
    "plt.rc('ytick', labelsize=16)    # fontsize of the tick labels\n",
    "plt.rc('legend', fontsize=16)    # legend fontsize\n",
    "plt.rc('figure', titlesize=16)   # fontsize of the figure title\n",
    "\n",
    "# if not os.path.exists(\"data\"):\n",
    "#     os.makedirs(\"data\")"
   ]
  },
  {
   "cell_type": "markdown",
   "id": "e8a1a23a",
   "metadata": {},
   "source": [
    "## Model description\n",
    "\n",
    "equations:\n",
    "\n",
    "$\\displaystyle \\frac{\\partial u}{\\partial t}=  -k_d u +  f(u,v)\\cdot v -\\rho g(u,v) \\cdot u +D_u \\Delta u$\n",
    "\n",
    "$\\displaystyle \\frac{\\partial v}{\\partial t}=+k_d u- f(u,v)\\cdot v -\\rho g(u,v) \\cdot u +D_v \\Delta v $\n",
    "\n",
    "$u$: DNA-bound proteins concentration\n",
    "\n",
    "$v$: free protein concentration\n",
    "\n",
    "$\\rho$: DNA length or stability of DNA-bound protein\n",
    "\n",
    "\n",
    "$D_u<<D_v$\n",
    "\n",
    "Here,we take $\\displaystyle f(u,v)= k_1 u +\\frac{\\tilde{b}}{k_3}=k_1u+b$ , $\\displaystyle g(u,v)=\\frac{ k_2  \\cdot \\beta}{k_2+u+v}$"
   ]
  },
  {
   "cell_type": "code",
   "execution_count": 3,
   "id": "d735c454",
   "metadata": {
    "tags": []
   },
   "outputs": [
    {
     "name": "stdout",
     "output_type": "stream",
     "text": [
      " Current grid dimensions: 2048 x 2048 cells\n",
      "\n"
     ]
    }
   ],
   "source": [
    "length    = 1024       #512.0      Length of the physical landscape\n",
    "n         = 2048       # 2048      Size of the 2D grid\n",
    "\n",
    "#n=2048\n",
    "endtime   = 10000.0     #1000       end time\n",
    "dT        = 0.005      # 0.02      calculate time step\n",
    "nplot     = 100\n",
    "nsteps    = np.ceil(endtime/nplot/dT).astype(int)    #number of time steps\n",
    "\n",
    "dX = 0.20    #0.2  length/n      # Spatial step size\n",
    "dY = 0.20    #0.2  length/n      # Spatial step size\n",
    "Grid_Width  = n\n",
    "Grid_Height = n\n",
    "# %% Reporting in the simulation on the console\n",
    "print(\" Current grid dimensions: %d x %d cells\\n\" % (Grid_Width, Grid_Height));"
   ]
  },
  {
   "cell_type": "markdown",
   "id": "8b28127e",
   "metadata": {},
   "source": [
    "## simulation settings"
   ]
  },
  {
   "cell_type": "code",
   "execution_count": 4,
   "id": "e185cd24",
   "metadata": {
    "tags": []
   },
   "outputs": [
    {
     "name": "stdout",
     "output_type": "stream",
     "text": [
      " Compute Device: Apple M2 Ultra\n",
      "\n"
     ]
    }
   ],
   "source": [
    "# Setting up the OpenCL context\n",
    "DeviceNr = 0   # 0 = GTX 960M\n",
    "platform = cl.get_platforms()\n",
    "Devices  = platform[0].get_devices()  # 0 = GPU\n",
    "context  = cl.Context([Devices[DeviceNr]])\n",
    "queue    = cl.CommandQueue(context)\n",
    "mf       = cl.mem_flags # Memory flags are set\n",
    "print(\" Compute Device: %s\\n\" % Devices[DeviceNr].name)"
   ]
  },
  {
   "cell_type": "markdown",
   "id": "213b2900",
   "metadata": {},
   "source": [
    "## Parameters in the model\n"
   ]
  },
  {
   "cell_type": "code",
   "execution_count": 5,
   "id": "87f91a07",
   "metadata": {
    "tags": []
   },
   "outputs": [],
   "source": [
    "kd=0.36            # Dissociation rate constant\n",
    "k3=6.7             # intensity conversion factor\n",
    "k1=1.35            #recruitment rate coefficient\n",
    "tildeb=60          #self-triggering rate\n",
    "b=tildeb/k3\n",
    "rho=5.0         # stability: default set as estimated half-saturation concentration of DNA\n",
    "k2=2.0          # half-saturation constant : threshold concentration\n",
    "beta=17.8*1.1   # maximal reduction of intensity per hour (estimated)\n",
    "Du=0.17*0.05    # diffusion for DNA-bound protein\n",
    "Dv=0.17         # diffusion for free protein\n",
    "cv=0.016*6.7    #constant speed up calculation"
   ]
  },
  {
   "cell_type": "code",
   "execution_count": 6,
   "id": "9d1ca03c",
   "metadata": {
    "tags": []
   },
   "outputs": [],
   "source": [
    "\n",
    "FpMax=80.0 # total protein concentration \n",
    "FpMin=10.0\n",
    "rhoMin=1.0 # stability of conbined DNA-protein\n",
    "rhoMax=22"
   ]
  },
  {
   "cell_type": "code",
   "execution_count": 7,
   "id": "50b5923d",
   "metadata": {
    "tags": []
   },
   "outputs": [],
   "source": [
    "## The array is allocated on the GPU and the initial values are copied onto it\n",
    "## set the free protein series\n",
    "T        = np.tile(np.logspace(np.log10(FpMin),np.log10(FpMax),n),n) # total protein X-axis\n",
    "seed     = (np.random.rand(n*n)-0.5)*2.0\n",
    "v        = T+ (seed-seed.mean())*0.5\n",
    "\n",
    "v_host   = v.astype(np.float32)\n",
    "v_g      = cl.Buffer(context, mf.READ_WRITE | mf.COPY_HOST_PTR, hostbuf=v_host)\n",
    "\n",
    "\n",
    "## set the DNA-bound protein concentration\n",
    "u0= 0.5 # initial DNA-bound protein concentration\n",
    "u= u0+  (np.random.rand(n*n)-0.5)*0.05   # u ~(0,0.5)\n",
    "\n",
    "u_host   = u.astype(np.float32)\n",
    "u_g      = cl.Buffer(context, mf.READ_WRITE | mf.COPY_HOST_PTR, hostbuf=u_host)\n",
    "\n",
    "## set the rho series \n",
    "rho_arr=np.logspace(np.log10(rhoMax),np.log10(rhoMin),n).repeat(n)\n",
    "#rho_arr=np.linspace(rhoMax,rhoMin,n).repeat(n)\n",
    "\n",
    "rho_arr_host   = rho_arr.astype(np.float32)\n",
    "rho_arr_g      = cl.Buffer(context, mf.READ_WRITE | mf.COPY_HOST_PTR, hostbuf=rho_arr_host)\n",
    "\n",
    "# cl.enqueue_copy(queue, rho_arr_host, rho_arr_g)\n",
    "\n",
    "v1=v.reshape(n,n)\n",
    "rho_arr1=rho_arr.reshape(n,n)\n",
    "\n",
    "if not os.path.exists(\"Data\"):\n",
    "    os.makedirs(\"Data\")\n",
    "io.savemat('Data/initialv.mat', {'v': v1})\n",
    "io.savemat('Data/initialrho.mat', {'rho': rho_arr1})"
   ]
  },
  {
   "cell_type": "code",
   "execution_count": 8,
   "id": "655f6365",
   "metadata": {
    "tags": []
   },
   "outputs": [],
   "source": [
    "import numpy as np\n",
    "\n",
    "def log_scale_points(ymin, ymax, n, special_values=None):\n",
    "    # 检查输入有效性\n",
    "    if ymin <= 0 or ymax <= 0:\n",
    "        raise ValueError(\"ymin 和 ymax 必须大于 0 才能使用对数坐标。\")\n",
    "    if ymin >= ymax:\n",
    "        raise ValueError(\"ymin 必须小于 ymax。\")\n",
    "    if n < 2:\n",
    "        raise ValueError(\"n 必须大于或等于 2。\")\n",
    "\n",
    "    # 在对数空间中生成均匀间隔的点\n",
    "    log_ymin = np.log10(ymin)\n",
    "    log_ymax = np.log10(ymax)\n",
    "    log_points = np.linspace(log_ymin, log_ymax, n)\n",
    "\n",
    "    # 将对数空间的点映射回线性空间\n",
    "    points = 10 ** log_points\n",
    "\n",
    "    # 如果有特殊数值，添加这些值并排序\n",
    "    if special_values is not None:\n",
    "        points = np.concatenate((points, special_values))\n",
    "        points = np.unique(points)\n",
    "        points.sort()\n",
    "    \n",
    "    return points\n",
    "\n",
    "def get_positions(ymin, ymax, values, n):\n",
    "    # 检查输入有效性\n",
    "    if ymin <= 0 or ymax <= 0:\n",
    "        raise ValueError(\"ymin 和 ymax 必须大于 0 才能使用对数坐标。\")\n",
    "    if ymin >= ymax:\n",
    "        raise ValueError(\"ymin 必须小于 ymax。\")\n",
    "\n",
    "    # 将输入值转换为对应的对数空间位置\n",
    "    log_ymin = np.log10(ymin)\n",
    "    log_ymax = np.log10(ymax)\n",
    "    log_values = np.log10(values)\n",
    "\n",
    "    # 计算每个值在对数坐标下的位置（归一化到 1 到 N 之间）\n",
    "    positions = 1 + (log_values - log_ymin) / (log_ymax - log_ymin) * (n - 1)\n",
    "    \n",
    "    return positions"
   ]
  },
  {
   "cell_type": "code",
   "execution_count": 9,
   "id": "4d843e3f",
   "metadata": {
    "tags": []
   },
   "outputs": [],
   "source": [
    "with open('SpatialFunctions_iPy.cl', 'r',encoding='utf-8') as myfile:\n",
    "   SpatialFunctions = myfile.read()"
   ]
  },
  {
   "cell_type": "code",
   "execution_count": 10,
   "id": "db218faa",
   "metadata": {
    "tags": []
   },
   "outputs": [],
   "source": [
    "# List of parameters for the OpenCL kernel. Seperate with comma without spaces\n",
    "# Setting up the parameters for the Kernel\n",
    "PassVars=\"kd,k3,k1,b,k2,rho,cv,beta,Du,Dv,dX,dY,dT,Grid_Width,Grid_Height\"\n",
    "PassVals=eval(PassVars)\n",
    "PassVars=PassVars.split(',')\n",
    "Params=\"\"\n",
    "\n",
    "for ii in range(len(PassVals)):\n",
    "    Params = Params+\"#define \" + PassVars[ii] + \" \" + str(PassVals[ii]) + \" \\n\""
   ]
  },
  {
   "cell_type": "code",
   "execution_count": 11,
   "id": "07c303e9",
   "metadata": {
    "tags": []
   },
   "outputs": [],
   "source": [
    "ComputeCode = \"\"\"\n",
    "\n",
    "///////////////////////////////////////////////////////////////////////////////\n",
    "// Simulation kernel, __global float* rho_arr\n",
    "///////////////////////////////////////////////////////////////////////////////   \n",
    "\n",
    "__kernel void SimulationKernel (__global float* u, __global float* v, __global float* rho_arr)\n",
    "{\n",
    "    size_t current  = get_global_id(0);\n",
    "    size_t row      = floor((float)current/(float)Grid_Width);\n",
    "    size_t column   = current%Grid_Width;\n",
    "\n",
    "        if (row > 0 && row < Grid_Width-1 && column > 0 && column < Grid_Height-1)\n",
    "            {\n",
    "                \n",
    "             float dudt =  cv*(-kd*u[current] + (k1*u[current]+b)*v[current] - rho_arr[current]*k2*beta*u[current]/(k2+u[current]+v[current])) + Du*d2_dxy2(u); \n",
    "             float dvdt = -cv*(-kd*u[current] + (k1*u[current]+b)*v[current] - rho_arr[current]*k2*beta*u[current]/(k2+u[current]+v[current])) + Dv*d2_dxy2(v); \n",
    "              \n",
    "             u[current] = u[current]+dudt*dT;\n",
    "             v[current] = v[current] +dvdt*dT; \n",
    "            } \n",
    "        // HANDLE Boundaries\n",
    "        else \n",
    "            {\n",
    "             \n",
    "             NeumannBoundaries(u);\n",
    "             NeumannBoundaries(v);\n",
    "             \n",
    "            }\n",
    "} // End SimulationKernel\n",
    "\"\"\""
   ]
  },
  {
   "cell_type": "code",
   "execution_count": 12,
   "id": "c388dab0",
   "metadata": {
    "tags": []
   },
   "outputs": [
    {
     "name": "stdout",
     "output_type": "stream",
     "text": [
      "Progress :\n"
     ]
    },
    {
     "data": {
      "application/vnd.jupyter.widget-view+json": {
       "model_id": "e1e15958f0b444a3923f3d060ba865b6",
       "version_major": 2,
       "version_minor": 0
      },
      "text/plain": [
       "FloatProgress(value=0.0)"
      ]
     },
     "metadata": {},
     "output_type": "display_data"
    },
    {
     "name": "stderr",
     "output_type": "stream",
     "text": [
      "AGX: exceeded compiled variants footprint limit\n"
     ]
    },
    {
     "name": "stdout",
     "output_type": "stream",
     "text": [
      " Simulation took      : 581.9 (s)\n"
     ]
    }
   ],
   "source": [
    "program = cl.Program(context, Params + SpatialFunctions + ComputeCode).build()\n",
    "\n",
    "from ipywidgets import FloatProgress\n",
    "from IPython.display import display\n",
    "\n",
    "# Setting up a progress bar for the simulation\n",
    "print(\"Progress :\");\n",
    "PB = FloatProgress(min=0, max=nplot); display(PB) \n",
    "Us=np.zeros((Grid_Width, Grid_Height, nplot))\n",
    "Vs=np.zeros((Grid_Width, Grid_Height, nplot))\n",
    "\n",
    "# Set up simulation parameters\n",
    "global_size = u_host.shape\n",
    "\n",
    "# Start the timer:\n",
    "start_time = time.time()\n",
    "\n",
    "# Starting the loop\n",
    "for ii in range(1,nplot):\n",
    "    # The simulation\n",
    "    for jj in range(1,nsteps):    \n",
    "        \n",
    "#         cl.enqueue_copy(queue, A_host, A_g)\n",
    "#         phic = signal.convolve2d(A_host.reshape(n,n), C, mode='same', boundary='wrap')                     \n",
    "#         phic_host = phic.reshape(n*n,order='C').astype(np.float32)\n",
    "#         phic_g    = cl.Buffer(context, mf.READ_WRITE | mf.COPY_HOST_PTR, hostbuf=phic_host)\n",
    "#         program.SimulationKernel(queue, global_size, None, A_g, B_g, phic_g,rho_arr_g)\n",
    "        program.SimulationKernel(queue, global_size, None, u_g, v_g,rho_arr_g)\n",
    "\n",
    "    # Get the data from the GPU\n",
    "    cl.enqueue_copy(queue, u_host, u_g)\n",
    "    cl.enqueue_copy(queue, v_host, v_g)\n",
    "    \n",
    "    # We store the state of the system for <NumPlot> different times.\n",
    "    Us[:,:,ii] = u_host.reshape(Grid_Width, Grid_Height)\n",
    "    Vs[:,:,ii] = v_host.reshape(Grid_Width, Grid_Height)\n",
    "    \n",
    "    PB.value += 1 # signal to increment the progress bar\n",
    "\n",
    "# Determining the time that we used for the simulation\n",
    "elapsed_time = time.time() - start_time    \n",
    "print(\" Simulation took      : %1.1f (s)\" % (elapsed_time))\n"
   ]
  },
  {
   "cell_type": "code",
   "execution_count": 13,
   "id": "c1ed1482",
   "metadata": {
    "tags": []
   },
   "outputs": [],
   "source": [
    "### The Simulation loop\n",
    "\n",
    "nbin=4\n",
    "# viridis, Reds, Greens, YlGn\n",
    "# plot_color_gradients('Sequential',\n",
    "#                      ['Greys', 'Purples', 'Blues', 'Greens', 'Oranges', 'Reds',\n",
    "#                       'YlOrBr', 'YlOrRd', 'OrRd', 'PuRd', 'RdPu', 'BuPu',\n",
    "#                       'GnBu', 'PuBu', 'YlGnBu', 'PuBuGn', 'BuGn', 'YlGn'])\n",
    "# plot_color_gradients('Sequential (2)',\n",
    "#                      ['binary', 'gist_yarg', 'gist_gray', 'gray', 'bone',\n",
    "#                       'pink', 'spring', 'summer', 'autumn', 'winter', 'cool',\n",
    "#                       'Wistia', 'hot', 'afmhot', 'gist_heat', 'copper'])\n",
    "\n",
    "#orig_map=plt.cm.get_cmap('viridis') # viridis  YlGn, summer\n",
    "orig_map=plt.colormaps['GnBu']\n",
    "reversed_map = orig_map.reversed()\n",
    "\n",
    "from matplotlib import ticker\n",
    "fig, ax = plt.subplots(1, 2, figsize=(10, 5))\n",
    "im0 = ax[0].imshow(np.log(u_host.reshape(n,n)),interpolation='nearest', cmap=reversed_map,\n",
    "                   extent=[0,length,0,length],clim=(0,4));#, clim=(0,0.1));\n",
    "ax[0].set_title('$n$ density ($\\mu$M/$\\mu$m$^2$)');\n",
    "cbar=plt.colorbar(im0, ax=ax[0],fraction=0.046,pad=0.04);\n",
    "tick_locator = ticker.MaxNLocator(nbins=5)\n",
    "cbar.locator = tick_locator\n",
    "cbar.update_ticks()\n",
    "# Xlabels = np.linspace(BioMin,BioMax,nbin).round(1)\n",
    "Xlabels = np.logspace(np.log10(FpMin),np.log10(FpMax),nbin).round(0)\n",
    "Ylabels = np.logspace(np.log10(rhoMin),np.log10(rhoMax),nbin).round(1)\n",
    "ax[0].set_xticks(np.linspace(0,length,nbin))\n",
    "ax[0].set_xticklabels(Xlabels)\n",
    "ax[0].set_yticks(np.linspace(0,length,nbin))\n",
    "ax[0].set_yticklabels(Ylabels)\n",
    "ax[0].set_xlabel('Initial free protein concentration , $u$');\n",
    "ax[0].set_ylabel(' combined effect of DNA, $\\\\rho$');\n",
    "\n",
    "im1 = ax[1].imshow(np.log(v_host.reshape(n,n)),interpolation='nearest',cmap=reversed_map,\n",
    "                  extent=[0,length,0,length],clim=(0,2));#, clim=(0,0.5));\n",
    "\n",
    "ax[1].set_title('$v$ DNA-bound protein density ($\\mu$M/$\\mu$m$^2$)');\n",
    "cbar=plt.colorbar(im1, ax=ax[1],fraction=0.046,pad=0.04);\n",
    "tick_locator = ticker.MaxNLocator(nbins=5)\n",
    "cbar.locator = tick_locator\n",
    "cbar.update_ticks()\n",
    "# Xlabels = np.linspace(BioMin,BioMax,nbin).round(0)\n",
    "Xlabels = np.logspace(np.log10(FpMin),np.log10(FpMax),nbin).round(0)\n",
    "#Ylabels = rho*np.logspace(np.log10(rhoMin),np.log10(rhoMax),nbin).round(1)\n",
    "Ylabels = np.logspace(np.log10(rhoMin),np.log10(rhoMax),nbin).round(1)\n",
    "\n",
    "ax[1].set_xticks(np.linspace(0,length,nbin))\n",
    "ax[1].set_xticklabels(Xlabels)\n",
    "ax[1].set_yticks(np.linspace(0,length,nbin))\n",
    "ax[1].set_yticklabels(Ylabels)\n",
    "ax[1].set_xlabel('free protein concentration, $\\\\tau$');\n",
    "# ax[1].set_ylabel('diffusion ratio, $\\delta$');\n",
    "\n",
    "fig.tight_layout()\n",
    "\n",
    "text=fig.suptitle(\"Time: %1.0f of %1.0f\" % (endtime, endtime),x=0.5, y=0.05, fontsize=16);\n",
    "#fig.savefig('Fig5A_PhaseSeparation_%03g'% 10+'.pdf',bbox_inches='tight',dpi=600)"
   ]
  },
  {
   "cell_type": "raw",
   "id": "fe2b44fd",
   "metadata": {
    "tags": []
   },
   "source": [
    "fig.savefig('rho_phase_0313.pdf',bbox_inches='tight',dpi=600)\n",
    "fig.savefig('rho_phase_0313.jpg',bbox_inches='tight',dpi=600)   "
   ]
  },
  {
   "cell_type": "code",
   "execution_count": null,
   "id": "73206caa",
   "metadata": {
    "tags": []
   },
   "outputs": [],
   "source": [
    "### The Simulation loop\n",
    "nbin=4\n",
    "\n",
    "# viridis, Reds, Greens, YlGn\n",
    "# plot_color_gradients('Sequential',\n",
    "#                      ['Greys', 'Purples', 'Blues', 'Greens', 'Oranges', 'Reds',\n",
    "#                       'YlOrBr', 'YlOrRd', 'OrRd', 'PuRd', 'RdPu', 'BuPu',\n",
    "#                       'GnBu', 'PuBu', 'YlGnBu', 'PuBuGn', 'BuGn', 'YlGn'])\n",
    "# plot_color_gradients('Sequential (2)',\n",
    "#                      ['binary', 'gist_yarg', 'gist_gray', 'gray', 'bone',\n",
    "#                       'pink', 'spring', 'summer', 'autumn', 'winter', 'cool',\n",
    "#                       'Wistia', 'hot', 'afmhot', 'gist_heat', 'copper'])\n",
    "\n",
    "#orig_map=plt.cm.get_cmap('viridis') # viridis  YlGn, summer\n",
    "orig_map=plt.colormaps['GnBu']\n",
    "reversed_map = orig_map.reversed()\n",
    "\n",
    "from matplotlib import ticker\n",
    "fig, ax2 = plt.subplots(1, 1, figsize=(10, 5))\n",
    "# im0 = ax[0].imshow(np.log(A_host.reshape(n,n))[::-1, :],interpolation='nearest', cmap=reversed_map,\n",
    "#                     extent=[0,length,0,length],clim=(0,5));#, clim=(0,0.1));\n",
    "im0 = ax2.imshow(np.log(u_host.reshape(n,n)),interpolation='nearest', cmap=reversed_map,\n",
    "                   extent=[0,length,0,length],clim=(0,5));#, clim=(0,0.1));\n",
    "\n",
    "\n",
    "# 将标题移到colorbar右侧\n",
    "#ax2.set_title('DNA-bound protein concentration', loc='right')\n",
    "#ax2.set_title('DNA-bound protein concentration ');\n",
    "cbar=plt.colorbar(im0, ax=ax2,fraction=0.046,pad=0.04);\n",
    "tick_locator = ticker.MaxNLocator(nbins=5)\n",
    "cbar.locator = tick_locator\n",
    "cbar.update_ticks()\n",
    "\n",
    "#cbar.ax.yaxis.set_tick_params(direction='in')\n",
    "Xlabels = np.logspace(np.log10(FpMin),np.log10(FpMax),nbin).round(0)\n",
    "Ylabels = np.logspace(np.log10(rhoMin),np.log10(rhoMax),nbin).round(1)\n",
    "#Ylabels = np.linspace(rhoMin,rhoMax,nbin).round(1) # if linespace for y-axis\n",
    "\n",
    "special_values = [1.0, 2.0, 8.0, 22.0]\n",
    "Ylabels = special_values\n",
    "positions = get_positions(rhoMin, rhoMax, Ylabels, length)\n",
    "#plot for marker at y-axis for 'rho=4' \n",
    "target_values = [4]\n",
    "Y_Markerline = get_positions(rhoMin, rhoMax, target_values, length)\n",
    "# Y_Markerline = length*(np.log10(4.0)/(np.log10(rhoMax)-np.log10(rhoMin)))\n",
    "\n",
    "ax2.set_xticks(np.linspace(0,length,nbin))\n",
    "ax2.set_xticklabels(Xlabels)\n",
    "ax2.set_yticks(np.linspace(0,length,nbin))\n",
    "ax2.set_yticklabels(Ylabels)\n",
    "\n",
    "ax2.plot([1, length], [Y_Markerline, Y_Markerline], '--', lw=1,color='gray', alpha=0.2)\n",
    "# 将ticks朝内# 调整x轴和y轴ticks数字之间的间距\n",
    "ax2.tick_params(axis='x', pad=8)\n",
    "ax2.tick_params(axis='y', pad=8)\n",
    "ax2.yaxis.set_ticks_position('both')\n",
    "ax2.xaxis.set_ticks_position('both')\n",
    "ax2.tick_params(axis='both', direction='in')\n",
    "ax2.set_xlabel('Initial free protein concentration');\n",
    "ax2.set_ylabel('Stability of DNA-bound protein, $\\\\rho$');\n"
   ]
  },
  {
   "cell_type": "code",
   "execution_count": null,
   "id": "b9aabba6",
   "metadata": {
    "tags": []
   },
   "outputs": [],
   "source": [
    "fig.savefig('Fig2c_phase.pdf',bbox_inches='tight',dpi=600)\n",
    "fig.savefig('Fig2c_phase.jpg',bbox_inches='tight',dpi=600)   "
   ]
  },
  {
   "cell_type": "code",
   "execution_count": null,
   "id": "8fa709fd",
   "metadata": {},
   "outputs": [],
   "source": []
  }
 ],
 "metadata": {
  "kernelspec": {
   "display_name": "Python 3 (ipykernel)",
   "language": "python",
   "name": "python3"
  },
  "language_info": {
   "codemirror_mode": {
    "name": "ipython",
    "version": 3
   },
   "file_extension": ".py",
   "mimetype": "text/x-python",
   "name": "python",
   "nbconvert_exporter": "python",
   "pygments_lexer": "ipython3",
   "version": "3.11.6"
  }
 },
 "nbformat": 4,
 "nbformat_minor": 5
}
