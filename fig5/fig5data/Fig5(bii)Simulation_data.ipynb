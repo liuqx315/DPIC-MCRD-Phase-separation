{
 "cells": [
  {
   "cell_type": "code",
   "execution_count": 1,
   "id": "04ec50c5",
   "metadata": {
    "tags": []
   },
   "outputs": [],
   "source": [
    "%reset -f \n",
    "from __future__ import absolute_import, print_function\n",
    "import time\n",
    "import numpy as np\n",
    "import pyopencl as cl\n",
    "import matplotlib.pyplot as plt\n",
    "import matplotlib.animation as animation\n",
    "from scipy import signal\n",
    "from matplotlib import rcParams\n",
    "from scipy import io\n",
    "import os\n",
    "from scipy import signal\n",
    "\n",
    "import locale\n",
    "os.environ[\"PYTHONIOENCODING\"] = \"utf-8\"\n"
   ]
  },
  {
   "cell_type": "code",
   "execution_count": 2,
   "id": "566f8271",
   "metadata": {
    "tags": []
   },
   "outputs": [
    {
     "data": {
      "text/html": [
       "<style>.container { width:90% !important; }</style>"
      ],
      "text/plain": [
       "<IPython.core.display.HTML object>"
      ]
     },
     "metadata": {},
     "output_type": "display_data"
    }
   ],
   "source": [
    "# Widening the screen\n",
    "from IPython.display import display, HTML\n",
    "display(HTML(\"<style>.container { width:90% !important; }</style>\"))\n",
    "\n",
    "rcParams['figure.dpi'] = 600\n",
    "rcParams['font.size'] = 16\n",
    "rcParams['font.family'] = 'StixGeneral'\n",
    "rcParams[\"mathtext.fontset\"] = 'stix'\n",
    "rcParams['animation.embed_limit'] = 2**128\n",
    "plt.rc('font', size=16)          # controls default text sizes\n",
    "plt.rc('axes', titlesize=16)     # fontsize of the axes title\n",
    "plt.rc('axes', labelsize=16)     # fontsize of the x and y labels\n",
    "plt.rc('xtick', labelsize=16)    # fontsize of the tick labels\n",
    "plt.rc('ytick', labelsize=16)    # fontsize of the tick labels\n",
    "plt.rc('legend', fontsize=16)    # legend fontsize\n",
    "plt.rc('figure', titlesize=16)   # fontsize of the figure title"
   ]
  },
  {
   "cell_type": "code",
   "execution_count": 3,
   "id": "1770db77",
   "metadata": {
    "tags": []
   },
   "outputs": [],
   "source": [
    "kd=0.36         # Dissociation rate constant\n",
    "k3=6.7          # intensity conversion factor\n",
    "k1=1.35         #recruitment rate coefficient\n",
    "tildeb=60       #self-triggering rate\n",
    "b=tildeb/k3\n",
    "rho=22.5          # stability: default value=5.0 set as estimated half-saturation concentration of DNA\n",
    "k2=2.0          # half-saturation constant : threshold concentration\n",
    "beta=17.8*1.1   # maximal reduction of intensity per hour (estimated)\n",
    "Du=0.17*0.05    # diffusion for DNA-bound protein\n",
    "Dv=0.17         # diffusion for free protein\n",
    "cv=0.016*6.7    #constant speed up calculation"
   ]
  },
  {
   "cell_type": "code",
   "execution_count": 4,
   "id": "8d1b2dd3",
   "metadata": {},
   "outputs": [],
   "source": [
    "foldname=\"rho\" + str(rho) + \"_v30\"\n",
    "if not os.path.exists(foldname):\n",
    "    os.makedirs(foldname)"
   ]
  },
  {
   "cell_type": "code",
   "execution_count": 5,
   "id": "5894c95a",
   "metadata": {
    "tags": []
   },
   "outputs": [
    {
     "name": "stdout",
     "output_type": "stream",
     "text": [
      " Current grid dimensions: 512 x 512 cells\n",
      "\n"
     ]
    }
   ],
   "source": [
    "length    = 100      #50#512.0# 50.0      # 2.5 Length of the physical landscape   \n",
    "n         = 512      # Size of the 2D grid\n",
    "endtime   = 10000 \n",
    "dT        = 0.01    #0.01       # 0.02     #calculate time step\n",
    "nplot     = 200      #200 #100\n",
    "#nsteps    = np.ceil(endtime/nplot/dT).astype(int)    # number of time steps\n",
    "LogTimeImages=np.logspace(np.log10(1),np.log10(endtime),nplot+1) #log not interger, okay?\n",
    "nstepsARRAY=np.diff(LogTimeImages)/dT\n",
    "nstepsARRAY=nstepsARRAY.astype(int)\n",
    "\n",
    "### Precalculations\n",
    "dX = 0.2 #length/n      # Spatial step size\n",
    "dY = 0.2 #length/n      # Spatial step size\n",
    "Grid_Width  = n\n",
    "Grid_Height = n\n",
    "# %% Reporting in the simulation on the console\n",
    "print(\" Current grid dimensions: %d x %d cells\\n\" % (Grid_Width, Grid_Height));"
   ]
  },
  {
   "cell_type": "code",
   "execution_count": 6,
   "id": "ae020682",
   "metadata": {
    "tags": []
   },
   "outputs": [
    {
     "name": "stdout",
     "output_type": "stream",
     "text": [
      " Compute Device: Apple M2 Ultra\n",
      "\n"
     ]
    }
   ],
   "source": [
    "# Setting up the OpenCL context\n",
    "#DeviceNr = 2   # 0 = GTX 960M\n",
    "DeviceNr = 0    # 0= Quadro K5200\n",
    "platform = cl.get_platforms()\n",
    "Devices  = platform[0].get_devices()  # 0 = GPU\n",
    "context  = cl.Context([Devices[DeviceNr]])\n",
    "queue    = cl.CommandQueue(context)\n",
    "mf       = cl.mem_flags # Memory flags are set\n",
    "print(\" Compute Device: %s\\n\" % Devices[DeviceNr].name)"
   ]
  },
  {
   "cell_type": "code",
   "execution_count": 7,
   "id": "37e91b73",
   "metadata": {
    "tags": []
   },
   "outputs": [
    {
     "name": "stdout",
     "output_type": "stream",
     "text": [
      "Progress :\n"
     ]
    },
    {
     "data": {
      "application/vnd.jupyter.widget-view+json": {
       "model_id": "7646e4def51441a495a81fffafbb0822",
       "version_major": 2,
       "version_minor": 0
      },
      "text/plain": [
       "FloatProgress(value=0.0, max=200.0)"
      ]
     },
     "metadata": {},
     "output_type": "display_data"
    },
    {
     "name": "stderr",
     "output_type": "stream",
     "text": [
      "AGX: exceeded compiled variants footprint limit\n"
     ]
    },
    {
     "name": "stdout",
     "output_type": "stream",
     "text": [
      " Simulation took      : 138.2 (s)\n",
      "completed!\n",
      "Progress :\n"
     ]
    },
    {
     "data": {
      "application/vnd.jupyter.widget-view+json": {
       "model_id": "37be967f0eac457192ca7a3f3128e893",
       "version_major": 2,
       "version_minor": 0
      },
      "text/plain": [
       "FloatProgress(value=0.0, max=200.0)"
      ]
     },
     "metadata": {},
     "output_type": "display_data"
    },
    {
     "name": "stdout",
     "output_type": "stream",
     "text": [
      " Simulation took      : 139.2 (s)\n",
      "completed!\n",
      "Progress :\n"
     ]
    },
    {
     "data": {
      "application/vnd.jupyter.widget-view+json": {
       "model_id": "cc02845ad2ea4f1c8081e244c5adf6d0",
       "version_major": 2,
       "version_minor": 0
      },
      "text/plain": [
       "FloatProgress(value=0.0, max=200.0)"
      ]
     },
     "metadata": {},
     "output_type": "display_data"
    },
    {
     "name": "stdout",
     "output_type": "stream",
     "text": [
      " Simulation took      : 135.4 (s)\n",
      "completed!\n",
      "Progress :\n"
     ]
    },
    {
     "data": {
      "application/vnd.jupyter.widget-view+json": {
       "model_id": "185d0e2f69014000a629398257c157ce",
       "version_major": 2,
       "version_minor": 0
      },
      "text/plain": [
       "FloatProgress(value=0.0, max=200.0)"
      ]
     },
     "metadata": {},
     "output_type": "display_data"
    },
    {
     "name": "stdout",
     "output_type": "stream",
     "text": [
      " Simulation took      : 137.5 (s)\n",
      "completed!\n",
      "Progress :\n"
     ]
    },
    {
     "data": {
      "application/vnd.jupyter.widget-view+json": {
       "model_id": "c527705a9c2a449c91f694d3d23c061e",
       "version_major": 2,
       "version_minor": 0
      },
      "text/plain": [
       "FloatProgress(value=0.0, max=200.0)"
      ]
     },
     "metadata": {},
     "output_type": "display_data"
    },
    {
     "name": "stdout",
     "output_type": "stream",
     "text": [
      " Simulation took      : 135.8 (s)\n",
      "completed!\n",
      "Progress :\n"
     ]
    },
    {
     "data": {
      "application/vnd.jupyter.widget-view+json": {
       "model_id": "531a4c1ba6814761bb059cb5da4ee37b",
       "version_major": 2,
       "version_minor": 0
      },
      "text/plain": [
       "FloatProgress(value=0.0, max=200.0)"
      ]
     },
     "metadata": {},
     "output_type": "display_data"
    },
    {
     "name": "stdout",
     "output_type": "stream",
     "text": [
      " Simulation took      : 135.6 (s)\n",
      "completed!\n",
      "Progress :\n"
     ]
    },
    {
     "data": {
      "application/vnd.jupyter.widget-view+json": {
       "model_id": "729d2e484a0a4ba2b110732511a4d288",
       "version_major": 2,
       "version_minor": 0
      },
      "text/plain": [
       "FloatProgress(value=0.0, max=200.0)"
      ]
     },
     "metadata": {},
     "output_type": "display_data"
    },
    {
     "name": "stdout",
     "output_type": "stream",
     "text": [
      " Simulation took      : 135.5 (s)\n",
      "completed!\n",
      "Progress :\n"
     ]
    },
    {
     "data": {
      "application/vnd.jupyter.widget-view+json": {
       "model_id": "60608c852ff9404a8e10a376ab3b5f8b",
       "version_major": 2,
       "version_minor": 0
      },
      "text/plain": [
       "FloatProgress(value=0.0, max=200.0)"
      ]
     },
     "metadata": {},
     "output_type": "display_data"
    },
    {
     "name": "stdout",
     "output_type": "stream",
     "text": [
      " Simulation took      : 134.4 (s)\n",
      "completed!\n",
      "Progress :\n"
     ]
    },
    {
     "data": {
      "application/vnd.jupyter.widget-view+json": {
       "model_id": "bfe2ce0a70f644278dc82b8d264f3daa",
       "version_major": 2,
       "version_minor": 0
      },
      "text/plain": [
       "FloatProgress(value=0.0, max=200.0)"
      ]
     },
     "metadata": {},
     "output_type": "display_data"
    },
    {
     "name": "stdout",
     "output_type": "stream",
     "text": [
      " Simulation took      : 137.5 (s)\n",
      "completed!\n"
     ]
    }
   ],
   "source": [
    "for kk in range(1,10):\n",
    "    u0= 0.5 # initial DNA-bound protein concentration\n",
    "    u= u0+  (np.random.rand(n*n)-0.5)*0.2   # u ~(0,0.5)\n",
    "    v0= 30.0 # initial free-protein concentration\n",
    "    v=v0 + (np.random.rand(n*n)-0.5)*0.5 # v~(27.5,28.5)\n",
    "    u_host   = u.astype(np.float32)\n",
    "    u_g      = cl.Buffer(context, mf.READ_WRITE | mf.COPY_HOST_PTR, hostbuf=u_host)\n",
    "    v_host   = v.astype(np.float32)\n",
    "    v_g      = cl.Buffer(context, mf.READ_WRITE | mf.COPY_HOST_PTR, hostbuf=v_host)\n",
    "\n",
    "    with open('SpatialFunctions_iPy.cl', 'r',encoding='utf-8') as myfile:\n",
    "     SpatialFunctions = myfile.read()\n",
    "    \n",
    "    # List of parameters for the OpenCL kernel. Seperate with comma without spaces\n",
    "    # Setting up the parameters for the Kernel\n",
    "    PassVars=\"kd,k3,k1,b,k2,rho,cv,beta,Du,Dv,dX,dY,dT,Grid_Width,Grid_Height\"\n",
    "    PassVals=eval(PassVars)\n",
    "    PassVars=PassVars.split(',')\n",
    "    Params=\"\"\n",
    "    \n",
    "    for ii in range(len(PassVals)):\n",
    "        Params = Params+\"#define \" + PassVars[ii] + \" \" + str(PassVals[ii]) + \" \\n\"\n",
    "    \n",
    "    ComputeCode = \"\"\"\n",
    "    ///////////////////////////////////////////////////////////////////////////////\n",
    "    // Simulation kernel\n",
    "    ///////////////////////////////////////////////////////////////////////////////   \n",
    "    \n",
    "    __kernel void SimulationKernel (__global float* u, __global float* v)\n",
    "    {\n",
    "        size_t current  = get_global_id(0);\n",
    "        size_t row      = floor((float)current/(float)Grid_Width);\n",
    "        size_t column   = current%Grid_Width;\n",
    "    \n",
    "            if (row > 0 && row < Grid_Width-1 && column > 0 && column < Grid_Height-1)\n",
    "                {\n",
    "                  \n",
    "                    float dudt =  cv*(-kd*u[current] + (k1*u[current]+b)*v[current] - rho*k2*beta*u[current]/(k2+u[current]+v[current])) + Du*d2_dxy2(u); \n",
    "                    float dvdt =  -cv*(-kd*u[current] + (k1*u[current]+b)*v[current] - rho*k2*beta*u[current]/(k2+u[current]+v[current])) + Dv*d2_dxy2(v); \n",
    "                  \n",
    "                 u[current] = u[current]+dudt*dT;\n",
    "                 v[current] = v[current] +dvdt*dT; \n",
    "                } \n",
    "            // HANDLE Boundaries\n",
    "            else \n",
    "                {\n",
    "                  PeriodicBoundaries(u);\n",
    "                  PeriodicBoundaries(v);\n",
    "                 //NeumannBoundaries(u);\n",
    "                 //NeumannBoundaries(v);\n",
    "                 \n",
    "                }\n",
    "    } // End SimulationKernel\n",
    "    \"\"\"\n",
    "    \n",
    "    program = cl.Program(context, Params + SpatialFunctions + ComputeCode).build()\n",
    "\n",
    "    from ipywidgets import FloatProgress\n",
    "    from IPython.display import display\n",
    "    # Setting up a progress bar for the simulation\n",
    "    print(\"Progress :\");\n",
    "    PB = FloatProgress(min=0, max=nplot); display(PB) \n",
    "    Us=np.zeros((Grid_Width, Grid_Height, nplot))\n",
    "    Vs=np.zeros((Grid_Width, Grid_Height, nplot))\n",
    "\n",
    "    # Set up simulation parameters\n",
    "    global_size = u_host.shape\n",
    "\n",
    "    # Start the timer:\n",
    "    start_time = time.time()\n",
    "    \n",
    "    # Starting the loop\n",
    "    for ii in range(1,nplot):\n",
    "        # The simulation  \n",
    "        for jj in range(1,nstepsARRAY[ii]):  \n",
    "            program.SimulationKernel(queue, global_size, None, u_g, v_g)\n",
    "\n",
    "        # Get the data from the GPU\n",
    "        cl.enqueue_copy(queue, u_host, u_g)\n",
    "        cl.enqueue_copy(queue, v_host, v_g)\n",
    "\n",
    "        # We store the state of the system for <NumPlot> different times.\n",
    "        Us[:,:,ii] = u_host.reshape(Grid_Width, Grid_Height)\n",
    "        Vs[:,:,ii] = v_host.reshape(Grid_Width, Grid_Height)\n",
    "\n",
    "        PB.value += 1 # signal to increment the progress bar\n",
    "\n",
    "    # Determining the time that we used for the simulation\n",
    "    elapsed_time = time.time() - start_time    \n",
    "    print(\" Simulation took      : %1.1f (s)\" % (elapsed_time))\n",
    "    io.savemat( foldname +'/sklaw_data'+str(kk)+'.mat', {'B': Us, 'Time': LogTimeImages})\n",
    "    print(\"completed!\")\n",
    "    "
   ]
  },
  {
   "cell_type": "code",
   "execution_count": null,
   "id": "360733c3",
   "metadata": {},
   "outputs": [],
   "source": []
  }
 ],
 "metadata": {
  "kernelspec": {
   "display_name": "Python 3 (ipykernel)",
   "language": "python",
   "name": "python3"
  },
  "language_info": {
   "codemirror_mode": {
    "name": "ipython",
    "version": 3
   },
   "file_extension": ".py",
   "mimetype": "text/x-python",
   "name": "python",
   "nbconvert_exporter": "python",
   "pygments_lexer": "ipython3",
   "version": "3.11.6"
  }
 },
 "nbformat": 4,
 "nbformat_minor": 5
}
